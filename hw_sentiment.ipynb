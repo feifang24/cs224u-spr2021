{
 "cells": [
  {
   "cell_type": "markdown",
   "metadata": {},
   "source": [
    "# Homework and bake-off: Sentiment analysis"
   ]
  },
  {
   "cell_type": "code",
   "execution_count": 1,
   "metadata": {},
   "outputs": [],
   "source": [
    "__author__ = \"Christopher Potts\"\n",
    "__version__ = \"CS224u, Stanford, Spring 2021\""
   ]
  },
  {
   "cell_type": "markdown",
   "metadata": {},
   "source": [
    "## Contents\n",
    "\n",
    "1. [Overview](#Overview)\n",
    "1. [Methodological note](#Methodological-note)\n",
    "1. [Set-up](#Set-up)\n",
    "1. [Train set](#Train-set)\n",
    "1. [Dev sets](#Dev-sets)\n",
    "1. [A softmax baseline](#A-softmax-baseline)\n",
    "1. [RNNClassifier wrapper](#RNNClassifier-wrapper)\n",
    "1. [Error analysis](#Error-analysis)\n",
    "1. [Homework questions](#Homework-questions)\n",
    "  1. [Token-level differences [1 point]](#Token-level-differences-[1-point])\n",
    "  1. [Training on some of the bakeoff data [1 point]](#Training-on-some-of-the-bakeoff-data-[1-point])\n",
    "  1. [A more powerful vector-averaging baseline [2 points]](#A-more-powerful-vector-averaging-baseline-[2-points])\n",
    "  1. [BERT encoding [2 points]](#BERT-encoding-[2-points])\n",
    "  1. [Your original system [3 points]](#Your-original-system-[3-points])\n",
    "1. [Bakeoff [1 point]](#Bakeoff-[1-point])"
   ]
  },
  {
   "cell_type": "markdown",
   "metadata": {},
   "source": [
    "## Overview\n",
    "\n",
    "This homework and associated bakeoff are devoted to supervised sentiment analysis using the ternary (positive/negative/neutral) version of the Stanford Sentiment Treebank (SST-3) as well as a new dev/test dataset drawn from restaurant reviews. Our goal in introducing the new dataset is to push you to create a system that performs well in both the movie and restaurant domains.\n",
    "\n",
    "The homework questions ask you to implement some baseline system, and the bakeoff challenge is to define a system that does well at both the SST-3 test set and the new restaurant test set. Both are ternary tasks, and our central bakeoff score is the mean of the macro-FI scores for the two datasets. This assigns equal weight to all classes and datasets regardless of size.\n",
    "\n",
    "The SST-3 test set will be used for the bakeoff evaluation. This dataset is already publicly distributed, so we are counting on people not to cheat by developing their models on the test set. You must do all your development without using the test set at all, and then evaluate exactly once on the test set and turn in the results, with no further system tuning or additional runs. __Much of the scientific integrity of our field depends on people adhering to this honor code__. \n",
    "\n",
    "One of our goals for this homework and bakeoff is to encourage you to engage in __the basic development cycle for supervised models__, in which you\n",
    "\n",
    "1. Design a new system. We recommend starting with something simple.\n",
    "1. Use `sst.experiment` to evaluate your system, using random train/test splits initially.\n",
    "1. If you have time, compare your system with others using `sst.compare_models` or `utils.mcnemar`. (For discussion, see [this notebook section](sst_02_hand_built_features.ipynb#Statistical-comparison-of-classifier-models).)\n",
    "1. Return to step 1, or stop the cycle and conduct a more rigorous evaluation with hyperparameter tuning and assessment on the `dev` set.\n",
    "\n",
    "[Error analysis](#Error-analysis) is one of the most important methods for steadily improving a system, as it facilitates a kind of human-powered hill-climbing on your ultimate objective. Often, it takes a careful human analyst just a few examples to spot a major pattern that can lead to a beneficial change to the feature representations."
   ]
  },
  {
   "cell_type": "markdown",
   "metadata": {},
   "source": [
    "## Methodological note\n",
    "\n",
    "You don't have to use the experimental framework defined below (based on `sst`). The only constraint we need to place on your system is that it must have a `predict_one` method that can map directly from an example text to a prediction, and it must be able to make predictions without having any information beyond the text. (For example, it can't depend on knowing which task the text comes from.) See [the bakeoff section below](#Bakeoff-[1-point]) for examples of functions that conform to this specification."
   ]
  },
  {
   "cell_type": "markdown",
   "metadata": {},
   "source": [
    "## Set-up\n",
    "\n",
    "See [the first notebook in this unit](sst_01_overview.ipynb#Set-up) for set-up instructions."
   ]
  },
  {
   "cell_type": "code",
   "execution_count": 2,
   "metadata": {},
   "outputs": [],
   "source": [
    "from collections import Counter\n",
    "import numpy as np\n",
    "import os\n",
    "import pandas as pd\n",
    "from sklearn.linear_model import LogisticRegression\n",
    "import torch.nn as nn\n",
    "\n",
    "from torch_rnn_classifier import TorchRNNClassifier\n",
    "from torch_tree_nn import TorchTreeNN\n",
    "import sst\n",
    "import utils"
   ]
  },
  {
   "cell_type": "code",
   "execution_count": 3,
   "metadata": {},
   "outputs": [],
   "source": [
    "SST_HOME = os.path.join('data', 'sentiment')"
   ]
  },
  {
   "cell_type": "markdown",
   "metadata": {},
   "source": [
    "## Train set"
   ]
  },
  {
   "cell_type": "markdown",
   "metadata": {},
   "source": [
    "Our primary train set is the SST-3 train set:"
   ]
  },
  {
   "cell_type": "code",
   "execution_count": 4,
   "metadata": {},
   "outputs": [],
   "source": [
    "sst_train = sst.train_reader(SST_HOME)"
   ]
  },
  {
   "cell_type": "code",
   "execution_count": 5,
   "metadata": {},
   "outputs": [
    {
     "data": {
      "text/plain": [
       "8544"
      ]
     },
     "execution_count": 5,
     "metadata": {},
     "output_type": "execute_result"
    }
   ],
   "source": [
    "sst_train.shape[0]"
   ]
  },
  {
   "cell_type": "code",
   "execution_count": 6,
   "metadata": {},
   "outputs": [
    {
     "data": {
      "text/html": [
       "<div>\n",
       "<style scoped>\n",
       "    .dataframe tbody tr th:only-of-type {\n",
       "        vertical-align: middle;\n",
       "    }\n",
       "\n",
       "    .dataframe tbody tr th {\n",
       "        vertical-align: top;\n",
       "    }\n",
       "\n",
       "    .dataframe thead th {\n",
       "        text-align: right;\n",
       "    }\n",
       "</style>\n",
       "<table border=\"1\" class=\"dataframe\">\n",
       "  <thead>\n",
       "    <tr style=\"text-align: right;\">\n",
       "      <th></th>\n",
       "      <th>example_id</th>\n",
       "      <th>sentence</th>\n",
       "      <th>label</th>\n",
       "      <th>is_subtree</th>\n",
       "    </tr>\n",
       "  </thead>\n",
       "  <tbody>\n",
       "    <tr>\n",
       "      <th>0</th>\n",
       "      <td>00001-00001</td>\n",
       "      <td>The Rock is destined to be the 21st Century 's...</td>\n",
       "      <td>positive</td>\n",
       "      <td>0</td>\n",
       "    </tr>\n",
       "    <tr>\n",
       "      <th>71</th>\n",
       "      <td>00002-00001</td>\n",
       "      <td>The gorgeously elaborate continuation of `` Th...</td>\n",
       "      <td>positive</td>\n",
       "      <td>0</td>\n",
       "    </tr>\n",
       "    <tr>\n",
       "      <th>144</th>\n",
       "      <td>00003-00001</td>\n",
       "      <td>Singer\\/composer Bryan Adams contributes a sle...</td>\n",
       "      <td>positive</td>\n",
       "      <td>0</td>\n",
       "    </tr>\n",
       "    <tr>\n",
       "      <th>221</th>\n",
       "      <td>00004-00001</td>\n",
       "      <td>You 'd think by now America would have had eno...</td>\n",
       "      <td>neutral</td>\n",
       "      <td>0</td>\n",
       "    </tr>\n",
       "    <tr>\n",
       "      <th>258</th>\n",
       "      <td>00005-00001</td>\n",
       "      <td>Yet the act is still charming here .</td>\n",
       "      <td>positive</td>\n",
       "      <td>0</td>\n",
       "    </tr>\n",
       "  </tbody>\n",
       "</table>\n",
       "</div>"
      ],
      "text/plain": [
       "      example_id                                           sentence     label  \\\n",
       "0    00001-00001  The Rock is destined to be the 21st Century 's...  positive   \n",
       "71   00002-00001  The gorgeously elaborate continuation of `` Th...  positive   \n",
       "144  00003-00001  Singer\\/composer Bryan Adams contributes a sle...  positive   \n",
       "221  00004-00001  You 'd think by now America would have had eno...   neutral   \n",
       "258  00005-00001               Yet the act is still charming here .  positive   \n",
       "\n",
       "     is_subtree  \n",
       "0             0  \n",
       "71            0  \n",
       "144           0  \n",
       "221           0  \n",
       "258           0  "
      ]
     },
     "execution_count": 6,
     "metadata": {},
     "output_type": "execute_result"
    }
   ],
   "source": [
    "sst_train.head()"
   ]
  },
  {
   "cell_type": "markdown",
   "metadata": {},
   "source": [
    "This is the train set we will use for all the regular homework questions. You are welcome to bring in new datasets for your original system. You are also free to add `include_subtrees=True`. This is very likely to lead to better systems, but it substantially increases the overall size of the dataset (from 8,544 examples to 159,274), which will in turn substantially increase the time it takes to run experiments.\n",
    "\n",
    "See [this notebook](sst_01_overview.ipynb) for additional details of this dataset."
   ]
  },
  {
   "cell_type": "markdown",
   "metadata": {},
   "source": [
    "## Dev sets"
   ]
  },
  {
   "cell_type": "markdown",
   "metadata": {},
   "source": [
    "We have two development set. SST3-dev consists of sentences from movie reviews, just like SST-3 train:"
   ]
  },
  {
   "cell_type": "code",
   "execution_count": 7,
   "metadata": {},
   "outputs": [],
   "source": [
    "sst_dev = sst.dev_reader(SST_HOME)"
   ]
  },
  {
   "cell_type": "code",
   "execution_count": 8,
   "metadata": {},
   "outputs": [
    {
     "data": {
      "text/plain": [
       "1101"
      ]
     },
     "execution_count": 8,
     "metadata": {},
     "output_type": "execute_result"
    }
   ],
   "source": [
    "len(sst_dev)"
   ]
  },
  {
   "cell_type": "markdown",
   "metadata": {},
   "source": [
    "Our new bakeoff dev set consists of sentences from restaurant reviews:"
   ]
  },
  {
   "cell_type": "code",
   "execution_count": 9,
   "metadata": {},
   "outputs": [],
   "source": [
    "bakeoff_dev = sst.bakeoff_dev_reader(SST_HOME)"
   ]
  },
  {
   "cell_type": "code",
   "execution_count": 10,
   "metadata": {},
   "outputs": [
    {
     "data": {
      "text/plain": [
       "[{'example_id': 57,\n",
       "  'sentence': 'I would recommend that you make reservations in advance.',\n",
       "  'label': 'neutral',\n",
       "  'is_subtree': 0},\n",
       " {'example_id': 590,\n",
       "  'sentence': 'We were welcomed warmly.',\n",
       "  'label': 'positive',\n",
       "  'is_subtree': 0},\n",
       " {'example_id': 1968,\n",
       "  'sentence': 'We have been to Oceanaire twice in the last 6 weeks.',\n",
       "  'label': 'neutral',\n",
       "  'is_subtree': 0}]"
      ]
     },
     "execution_count": 10,
     "metadata": {},
     "output_type": "execute_result"
    }
   ],
   "source": [
    "bakeoff_dev.sample(3, random_state=1).to_dict(orient='records')"
   ]
  },
  {
   "cell_type": "markdown",
   "metadata": {},
   "source": [
    "Here is the label distribution:"
   ]
  },
  {
   "cell_type": "code",
   "execution_count": 11,
   "metadata": {},
   "outputs": [
    {
     "data": {
      "text/plain": [
       "neutral     1019\n",
       "positive     777\n",
       "negative     565\n",
       "Name: label, dtype: int64"
      ]
     },
     "execution_count": 11,
     "metadata": {},
     "output_type": "execute_result"
    }
   ],
   "source": [
    "bakeoff_dev.label.value_counts()"
   ]
  },
  {
   "cell_type": "markdown",
   "metadata": {},
   "source": [
    "The label distribution for the corresponding test set is similar to this."
   ]
  },
  {
   "cell_type": "markdown",
   "metadata": {},
   "source": [
    "## A softmax baseline\n",
    "\n",
    "This example is here mainly as a reminder of how to use our experimental framework with linear models:"
   ]
  },
  {
   "cell_type": "code",
   "execution_count": 12,
   "metadata": {},
   "outputs": [],
   "source": [
    "def unigrams_phi(text):\n",
    "    return Counter(text.split())"
   ]
  },
  {
   "cell_type": "markdown",
   "metadata": {},
   "source": [
    "Thin wrapper around `LogisticRegression` for the sake of `sst.experiment`:"
   ]
  },
  {
   "cell_type": "code",
   "execution_count": 13,
   "metadata": {},
   "outputs": [],
   "source": [
    "def fit_softmax_classifier(X, y):\n",
    "    mod = LogisticRegression(\n",
    "        fit_intercept=True,\n",
    "        solver='liblinear',\n",
    "        multi_class='ovr')\n",
    "    mod.fit(X, y)\n",
    "    return mod"
   ]
  },
  {
   "cell_type": "markdown",
   "metadata": {},
   "source": [
    "The experimental run with some notes:"
   ]
  },
  {
   "cell_type": "code",
   "execution_count": 14,
   "metadata": {},
   "outputs": [
    {
     "name": "stdout",
     "output_type": "stream",
     "text": [
      "Assessment dataset 1\n",
      "              precision    recall  f1-score   support\n",
      "\n",
      "    negative      0.628     0.689     0.657       428\n",
      "     neutral      0.343     0.153     0.211       229\n",
      "    positive      0.629     0.750     0.684       444\n",
      "\n",
      "    accuracy                          0.602      1101\n",
      "   macro avg      0.533     0.531     0.518      1101\n",
      "weighted avg      0.569     0.602     0.575      1101\n",
      "\n",
      "Assessment dataset 2\n",
      "              precision    recall  f1-score   support\n",
      "\n",
      "    negative      0.272     0.690     0.390       565\n",
      "     neutral      0.429     0.113     0.179      1019\n",
      "    positive      0.409     0.346     0.375       777\n",
      "\n",
      "    accuracy                          0.328      2361\n",
      "   macro avg      0.370     0.383     0.315      2361\n",
      "weighted avg      0.385     0.328     0.294      2361\n",
      "\n",
      "Mean of macro-F1 scores: 0.416\n"
     ]
    }
   ],
   "source": [
    "softmax_experiment = sst.experiment(\n",
    "    sst.train_reader(SST_HOME),   # Train on any data you like except SST-3 test!\n",
    "    unigrams_phi,                 # Free to write your own!\n",
    "    fit_softmax_classifier,       # Free to write your own!\n",
    "    assess_dataframes=[sst_dev, bakeoff_dev]) # Free to change this during development!"
   ]
  },
  {
   "cell_type": "markdown",
   "metadata": {},
   "source": [
    "`softmax_experiment` contains a lot of information that you can use for error analysis; see [this section below](#Error-analysis) for starter code."
   ]
  },
  {
   "cell_type": "markdown",
   "metadata": {},
   "source": [
    "## RNNClassifier wrapper\n",
    "\n",
    "This section illustrates how to use `sst.experiment` with `TorchRNNClassifier`."
   ]
  },
  {
   "cell_type": "markdown",
   "metadata": {},
   "source": [
    "To featurize examples for an RNN, we can just get the words in order, letting the model take care of mapping them into an embedding space."
   ]
  },
  {
   "cell_type": "code",
   "execution_count": 15,
   "metadata": {},
   "outputs": [],
   "source": [
    "def rnn_phi(text):\n",
    "    return text.split()"
   ]
  },
  {
   "cell_type": "markdown",
   "metadata": {},
   "source": [
    "The model wrapper gets the vocabulary using `sst.get_vocab`. If you want to use pretrained word representations in here, then you can have `fit_rnn_classifier` build that space too; see [this notebook section for details](sst_03_neural_networks.ipynb#Pretrained-embeddings). See also [torch_model_base.py](torch_model_base.py) for details on the many optimization parameters that `TorchRNNClassifier` accepts."
   ]
  },
  {
   "cell_type": "code",
   "execution_count": 16,
   "metadata": {},
   "outputs": [],
   "source": [
    "def fit_rnn_classifier(X, y):\n",
    "    sst_glove_vocab = utils.get_vocab(X, mincount=2)\n",
    "    mod = TorchRNNClassifier(\n",
    "        sst_glove_vocab,\n",
    "        early_stopping=True)\n",
    "    mod.fit(X, y)\n",
    "    return mod"
   ]
  },
  {
   "cell_type": "code",
   "execution_count": 17,
   "metadata": {},
   "outputs": [
    {
     "name": "stderr",
     "output_type": "stream",
     "text": [
      "Stopping after epoch 64. Validation score did not improve by tol=1e-05 for more than 10 epochs. Final error is 0.1926556695252657"
     ]
    },
    {
     "name": "stdout",
     "output_type": "stream",
     "text": [
      "Assessment dataset 1\n",
      "              precision    recall  f1-score   support\n",
      "\n",
      "    negative      0.601     0.577     0.589       428\n",
      "     neutral      0.332     0.336     0.334       229\n",
      "    positive      0.603     0.622     0.612       444\n",
      "\n",
      "    accuracy                          0.545      1101\n",
      "   macro avg      0.512     0.512     0.512      1101\n",
      "weighted avg      0.546     0.545     0.545      1101\n",
      "\n",
      "Assessment dataset 2\n",
      "              precision    recall  f1-score   support\n",
      "\n",
      "    negative      0.279     0.550     0.370       565\n",
      "     neutral      0.417     0.091     0.150      1019\n",
      "    positive      0.395     0.520     0.449       777\n",
      "\n",
      "    accuracy                          0.342      2361\n",
      "   macro avg      0.364     0.387     0.323      2361\n",
      "weighted avg      0.377     0.342     0.301      2361\n",
      "\n",
      "Mean of macro-F1 scores: 0.417\n"
     ]
    }
   ],
   "source": [
    "if 'IS_GRADESCOPE_ENV' not in os.environ:\n",
    "    rnn_experiment = sst.experiment(\n",
    "        sst.train_reader(SST_HOME),\n",
    "        rnn_phi,\n",
    "        fit_rnn_classifier,\n",
    "        vectorize=False,  # For deep learning, use `vectorize=False`.\n",
    "        assess_dataframes=[sst_dev, bakeoff_dev])"
   ]
  },
  {
   "cell_type": "markdown",
   "metadata": {},
   "source": [
    "## Error analysis\n",
    "\n",
    "This section begins to build an error-analysis framework using the dicts returned by `sst.experiment`. These have the following structure:\n",
    "\n",
    "```\n",
    "'model': trained model\n",
    "'phi': the feature function used\n",
    "'train_dataset':\n",
    "   'X': feature matrix\n",
    "   'y': list of labels\n",
    "   'vectorizer': DictVectorizer,\n",
    "   'raw_examples': list of raw inputs, before featurizing   \n",
    "'assess_datasets': list of datasets, each with the same structure as the value of 'train_dataset'\n",
    "'predictions': list of lists of predictions on the assessment datasets\n",
    "'metric': `score_func.__name__`, where `score_func` is an `sst.experiment` argument\n",
    "'score': the `score_func` score on the each of the assessment dataasets\n",
    "```\n",
    "The following function just finds mistakes, and returns a `pd.DataFrame` for easy subsequent processing:"
   ]
  },
  {
   "cell_type": "code",
   "execution_count": 23,
   "metadata": {},
   "outputs": [],
   "source": [
    "def find_errors(experiment):\n",
    "    \"\"\"Find mistaken predictions.\n",
    "\n",
    "    Parameters\n",
    "    ----------\n",
    "    experiment : dict\n",
    "        As returned by `sst.experiment`.\n",
    "\n",
    "    Returns\n",
    "    -------\n",
    "    pd.DataFrame\n",
    "\n",
    "    \"\"\"\n",
    "    dfs = []\n",
    "    for i, dataset in enumerate(experiment['assess_datasets']):\n",
    "        df = pd.DataFrame({\n",
    "            'raw_examples': dataset['raw_examples'],\n",
    "            'predicted': experiment['predictions'][i],\n",
    "            'gold': dataset['y']})\n",
    "        df['correct'] = df['predicted'] == df['gold']\n",
    "        df['dataset'] = i\n",
    "        dfs.append(df)\n",
    "    return pd.concat(dfs)"
   ]
  },
  {
   "cell_type": "code",
   "execution_count": 24,
   "metadata": {},
   "outputs": [],
   "source": [
    "# softmax_analysis = find_errors(softmax_experiment)"
   ]
  },
  {
   "cell_type": "code",
   "execution_count": 25,
   "metadata": {},
   "outputs": [],
   "source": [
    "# rnn_analysis = find_errors(rnn_experiment)"
   ]
  },
  {
   "cell_type": "markdown",
   "metadata": {},
   "source": [
    "Here we merge the sotmax and RNN experiments into a single DataFrame:"
   ]
  },
  {
   "cell_type": "code",
   "execution_count": 26,
   "metadata": {},
   "outputs": [],
   "source": [
    "# analysis = softmax_analysis.merge(\n",
    "#     rnn_analysis, left_on='raw_examples', right_on='raw_examples')\n",
    "\n",
    "# analysis = analysis.drop('gold_y', axis=1).rename(columns={'gold_x': 'gold'})"
   ]
  },
  {
   "cell_type": "markdown",
   "metadata": {},
   "source": [
    "The following code collects a specific subset of examples; small modifications to its structure will give you different interesting subsets:"
   ]
  },
  {
   "cell_type": "code",
   "execution_count": 27,
   "metadata": {},
   "outputs": [],
   "source": [
    "# # Examples where the softmax model is correct, the RNN is not,\n",
    "# # and the gold label is 'positive'\n",
    "\n",
    "# error_group = analysis[\n",
    "#     (analysis['predicted_x'] == analysis['gold'])\n",
    "#     &\n",
    "#     (analysis['predicted_y'] != analysis['gold'])\n",
    "#     &\n",
    "#     (analysis['gold'] == 'positive')\n",
    "# ]"
   ]
  },
  {
   "cell_type": "code",
   "execution_count": 28,
   "metadata": {
    "scrolled": true
   },
   "outputs": [],
   "source": [
    "# error_group.shape[0]"
   ]
  },
  {
   "cell_type": "code",
   "execution_count": 29,
   "metadata": {},
   "outputs": [],
   "source": [
    "# for ex in error_group['raw_examples'].sample(5, random_state=1):\n",
    "#     print(\"=\"*70)\n",
    "#     print(ex)"
   ]
  },
  {
   "cell_type": "markdown",
   "metadata": {},
   "source": [
    "## Homework questions\n",
    "\n",
    "Please embed your homework responses in this notebook, and do not delete any cells from the notebook. (You are free to add as many cells as you like as part of your responses.)"
   ]
  },
  {
   "cell_type": "markdown",
   "metadata": {},
   "source": [
    "### Token-level differences [1 point]"
   ]
  },
  {
   "cell_type": "markdown",
   "metadata": {},
   "source": [
    "We can begin to get a sense for how our two dev sets differ by considering the most frequent tokens from each. This question asks you to begin such analysis.\n",
    "\n",
    "Your task: write a function `get_token_counts` that, given a `pd.DataFrame` in the format of our datasets, tokenizes the example sentences based on whitespace and creates a count distribution over all of the tokens. The function should return a `pd.Series` sorted by frequency; if you create a count dictionary `d`, then `pd.Series(d).sort_values(ascending=False)` will give you what you need."
   ]
  },
  {
   "cell_type": "code",
   "execution_count": 30,
   "metadata": {},
   "outputs": [],
   "source": [
    "def get_token_counts(df):\n",
    "    ##### YOUR CODE HERE\n",
    "    counts = Counter()\n",
    "    for sent in df['sentence']:\n",
    "        counts += unigrams_phi(sent)\n",
    "    return pd.Series(counts).sort_values(ascending=False)"
   ]
  },
  {
   "cell_type": "code",
   "execution_count": 31,
   "metadata": {},
   "outputs": [],
   "source": [
    "def test_get_token_counts(func):\n",
    "    df = pd.DataFrame([\n",
    "        {'sentence': 'a a b'},\n",
    "        {'sentence': 'a b a'},\n",
    "        {'sentence': 'a a a b.'}])\n",
    "    result = func(df)\n",
    "    for token, expected in (('a', 7), ('b', 2), ('b.', 1)):\n",
    "        actual = result.loc[token]\n",
    "        assert actual == expected, \\\n",
    "            \"For token {}, expected {}; got {}\".format(\n",
    "            token, expected, actual)"
   ]
  },
  {
   "cell_type": "code",
   "execution_count": 32,
   "metadata": {},
   "outputs": [],
   "source": [
    "if 'IS_GRADESCOPE_ENV' not in os.environ:\n",
    "    test_get_token_counts(get_token_counts)"
   ]
  },
  {
   "cell_type": "markdown",
   "metadata": {},
   "source": [
    "As you develop your original system, you might review these results. The two dev sets have different vocabularies and different low-level encoding details that are sure to impact model performance, especially when one considers that the train set is like `sst_dev` in all these respects. For additional discussion, see [this notebook section](sst_01_overview.ipynb#Tokenization)."
   ]
  },
  {
   "cell_type": "markdown",
   "metadata": {},
   "source": [
    "### Training on some of the bakeoff data [1 point]"
   ]
  },
  {
   "cell_type": "markdown",
   "metadata": {},
   "source": [
    "We have so far presented the bakeoff dev set as purely for evaluation. Since the train set consists entirely of SST-3 data, this makes the bakeoff split especially challenging. We might be able to reduce the challenging by adding some of the bakeoff dev set to the train set, keeping some of it for evaluation. The current question asks to begin explore the effects of such training.\n",
    "\n",
    "Your task: write a function `run_mixed_training_experiment`. The function should:\n",
    "\n",
    "1. Take as inputs (a) a model training wrapper like `fit_softmax_classifier` and (b) an integer `bakeoff_train_size` specifying the number of examples from `bakeoff_dev` that should be included in the train set.\n",
    "1. Split `bakeoff_dev` so that the first `bakeoff_train_size` examples are in the train set and the rest are used for evaluation.\n",
    "1. Use `sst.experiment` with the user-supplied model training wrapper, `unigram_phi` as defined above, and a train set that consists of SST-3 train and the train portion of `bakeoff_dev` as defined in step 2. The value of `assess_dataframes` should be a list consisting of the SST-3 dev set and the evaluation portion of `bakeoff_dev` as defined in step 2.\n",
    "1. Return the return value of `sst.experiment`.\n",
    "\n",
    "The function `test_run_mixed_training_experiment` will help you iterate to the required design."
   ]
  },
  {
   "cell_type": "code",
   "execution_count": 33,
   "metadata": {},
   "outputs": [],
   "source": [
    "def run_mixed_training_experiment(wrapper_func, bakeoff_train_size):\n",
    "    ##### YOUR CODE HERE\n",
    "    \n",
    "    return sst.experiment(\n",
    "        [sst.train_reader(SST_HOME), bakeoff_dev[:bakeoff_train_size]],\n",
    "        unigrams_phi,\n",
    "        wrapper_func,\n",
    "        assess_dataframes=[sst_dev, bakeoff_dev[bakeoff_train_size:]])\n"
   ]
  },
  {
   "cell_type": "code",
   "execution_count": 34,
   "metadata": {},
   "outputs": [],
   "source": [
    "def test_run_mixed_training_experiment(func):\n",
    "    bakeoff_train_size = 1000\n",
    "    experiment = func(fit_softmax_classifier, bakeoff_train_size)\n",
    "\n",
    "    assess_size = len(experiment['assess_datasets'])\n",
    "    assert len(experiment['assess_datasets']) == 2, \\\n",
    "        (\"The evaluation should be done on two datasets: \"\n",
    "         \"SST3 and part of the bakeoff dev set. \"\n",
    "         \"You have {} datasets.\".format(assess_size))\n",
    "\n",
    "    bakeoff_test_size = bakeoff_dev.shape[0] - bakeoff_train_size\n",
    "    expected_eval_examples = bakeoff_test_size + sst_dev.shape[0]\n",
    "    eval_examples = sum(len(d['raw_examples']) for d in experiment['assess_datasets'])\n",
    "    assert expected_eval_examples == eval_examples, \\\n",
    "        \"Expected {} evaluation examples; got {}\".format(\n",
    "        expected_eval_examples, eval_examples)"
   ]
  },
  {
   "cell_type": "code",
   "execution_count": 35,
   "metadata": {},
   "outputs": [
    {
     "name": "stdout",
     "output_type": "stream",
     "text": [
      "Assessment dataset 1\n",
      "              precision    recall  f1-score   support\n",
      "\n",
      "    negative      0.627     0.671     0.648       428\n",
      "     neutral      0.319     0.162     0.214       229\n",
      "    positive      0.638     0.757     0.692       444\n",
      "\n",
      "    accuracy                          0.599      1101\n",
      "   macro avg      0.528     0.530     0.518      1101\n",
      "weighted avg      0.567     0.599     0.576      1101\n",
      "\n",
      "Assessment dataset 2\n",
      "              precision    recall  f1-score   support\n",
      "\n",
      "    negative      0.471     0.412     0.440       320\n",
      "     neutral      0.588     0.590     0.589       612\n",
      "    positive      0.503     0.548     0.525       429\n",
      "\n",
      "    accuracy                          0.535      1361\n",
      "   macro avg      0.521     0.517     0.518      1361\n",
      "weighted avg      0.534     0.535     0.534      1361\n",
      "\n",
      "Mean of macro-F1 scores: 0.518\n"
     ]
    }
   ],
   "source": [
    "if 'IS_GRADESCOPE_ENV' not in os.environ:\n",
    "    test_run_mixed_training_experiment(run_mixed_training_experiment)"
   ]
  },
  {
   "cell_type": "markdown",
   "metadata": {},
   "source": [
    "### A more powerful vector-averaging baseline [2 points]\n",
    "\n",
    "In [Distributed representations as features](sst_03_neural_networks.ipynb#Distributed-representations-as-features), we looked at a baseline for the ternary SST-3 problem in which each example is modeled as the mean of its GloVe representations. A `LogisticRegression` model was used for prediction. A neural network might do better with these representations, since there might be complex relationships between the input feature dimensions that a linear classifier can't learn. To address this question, we want to get set up to run the experiment with a shallow neural classifier. \n",
    "\n",
    "Your task: write and submit a model wrapper function around `TorchShallowNeuralClassifier`. This function should implement hyperparameter search according to this specification:\n",
    "\n",
    "* Set `early_stopping=True` for all experiments.\n",
    "* Using 3-fold cross-validation, exhaustively explore this set of hyperparameter combinations:\n",
    "  * The hidden dimensionality at 50, 100, and 200.\n",
    "  * The hidden activation function as `nn.Tanh()` and `nn.ReLU()`.\n",
    "* For all other parameters to `TorchShallowNeuralClassifier`, use the defaults.\n",
    "\n",
    "See [this notebook section](sst_02_hand_built_features.ipynb#Hyperparameter-search) for examples. You are not required to run a full evaluation with this function using `sst.experiment`, but we assume you will want to.\n",
    "\n",
    "We're not evaluating the quality of your model. (We've specified the protocols completely, but there will still be variation in the results.) However, the primary goal of this question is to get you thinking more about this strong baseline feature representation scheme for SST-3, so we're sort of hoping you feel compelled to try out variations on your own."
   ]
  },
  {
   "cell_type": "code",
   "execution_count": 36,
   "metadata": {},
   "outputs": [],
   "source": [
    "# DATA_HOME = 'data'\n",
    "\n",
    "# GLOVE_HOME = os.path.join(DATA_HOME, 'glove.6B')\n",
    "\n",
    "# glove_lookup = utils.glove2dict(\n",
    "#     os.path.join(GLOVE_HOME, 'glove.6B.300d.txt'))\n",
    "\n",
    "# def vsm_phi(text, lookup, np_func=np.mean):\n",
    "#     \"\"\"Represent `tree` as a combination of the vector of its words.\n",
    "\n",
    "#     Parameters\n",
    "#     ----------\n",
    "#     text : str\n",
    "\n",
    "#     lookup : dict\n",
    "#         From words to vectors.\n",
    "\n",
    "#     np_func : function (default: np.sum)\n",
    "#         A numpy matrix operation that can be applied columnwise,\n",
    "#         like `np.mean`, `np.sum`, or `np.prod`. The requirement is that\n",
    "#         the function take `axis=0` as one of its arguments (to ensure\n",
    "#         columnwise combination) and that it return a vector of a\n",
    "#         fixed length, no matter what the size of the tree is.\n",
    "\n",
    "#     Returns\n",
    "#     -------\n",
    "#     np.array, dimension `X.shape[1]`\n",
    "\n",
    "#     \"\"\"\n",
    "#     allvecs = np.array([lookup[w] for w in text.split() if w in lookup])\n",
    "#     if len(allvecs) == 0:\n",
    "#         dim = len(next(iter(lookup.values())))\n",
    "#         feats = np.zeros(dim)\n",
    "#     else:\n",
    "#         feats = np_func(allvecs, axis=0)\n",
    "#     return feats\n",
    "\n",
    "# def glove_phi(text, np_func=np.mean):\n",
    "#     return vsm_phi(text, glove_lookup, np_func=np_func)"
   ]
  },
  {
   "cell_type": "code",
   "execution_count": 37,
   "metadata": {},
   "outputs": [],
   "source": [
    "from torch_shallow_neural_classifier import TorchShallowNeuralClassifier\n",
    "\n",
    "def fit_shallow_neural_classifier_with_hyperparameter_search(X, y):\n",
    "    ##### YOUR CODE HERE\n",
    "    basemod = TorchShallowNeuralClassifier(early_stopping=True)\n",
    "    cv = 3\n",
    "    param_grid = {\n",
    "        'hidden_dim': [50, 100, 200],\n",
    "        'hidden_activation': [nn.Tanh(), nn.ReLU()]}\n",
    "    bestmod = utils.fit_classifier_with_hyperparameter_search(\n",
    "        X, y, basemod, cv, param_grid)\n",
    "    return bestmod"
   ]
  },
  {
   "cell_type": "code",
   "execution_count": 38,
   "metadata": {},
   "outputs": [],
   "source": [
    "# shallow_neural_experiment = sst.experiment(\n",
    "#     sst.train_reader(SST_HOME),\n",
    "#     glove_phi,\n",
    "#     fit_shallow_neural_classifier_with_hyperparameter_search,\n",
    "#     vectorize=False,\n",
    "#     assess_dataframes=sst_dev) # use only `sst_dev` to directly compare with naive mean"
   ]
  },
  {
   "cell_type": "markdown",
   "metadata": {},
   "source": [
    "### BERT encoding [2 points]"
   ]
  },
  {
   "cell_type": "markdown",
   "metadata": {},
   "source": [
    "We might hypothesize that encoding our examples with BERT will yield improvements over the GloVe averaging method explored in the previous question, since BERT implements a much more complex and data-driven function for this kind of combination. This question asks you to begin exploring this general hypothesis.\n",
    "\n",
    "Your task: write a function `hf_cls_phi` that uses Hugging Face functionality to encode individual examples with BERT and returns the final output representation above the [CLS] token.\n",
    "\n",
    "You are not required to evaluate this feature function, but it is easy to do so with `sst.experiment` and `vectorize=False` (since your feature function directly encodes every example as a vector). Your code should also be a natural basis for even more powerful approaches – for example, it might be even better to pool all the output states rather than using just the first output state. Another option is [fine-tuning](finetuning.ipynb)."
   ]
  },
  {
   "cell_type": "code",
   "execution_count": 39,
   "metadata": {},
   "outputs": [
    {
     "data": {
      "application/vnd.jupyter.widget-view+json": {
       "model_id": "015aba5e48b240b8bd6516f25a584279",
       "version_major": 2,
       "version_minor": 0
      },
      "text/plain": [
       "HBox(children=(HTML(value='Downloading'), FloatProgress(value=0.0, max=28.0), HTML(value='')))"
      ]
     },
     "metadata": {},
     "output_type": "display_data"
    },
    {
     "name": "stdout",
     "output_type": "stream",
     "text": [
      "\n"
     ]
    },
    {
     "data": {
      "application/vnd.jupyter.widget-view+json": {
       "model_id": "5a9154d5a9ac4ca89b48327384595b8d",
       "version_major": 2,
       "version_minor": 0
      },
      "text/plain": [
       "HBox(children=(HTML(value='Downloading'), FloatProgress(value=0.0, max=466062.0), HTML(value='')))"
      ]
     },
     "metadata": {},
     "output_type": "display_data"
    },
    {
     "name": "stdout",
     "output_type": "stream",
     "text": [
      "\n"
     ]
    }
   ],
   "source": [
    "from transformers import BertModel, BertTokenizer\n",
    "import vsm\n",
    "\n",
    "# Instantiate a Bert model and tokenizer based on `bert_weights_name`:\n",
    "bert_weights_name = 'bert-base-uncased'\n",
    "##### YOUR CODE HERE\n",
    "bert_tokenizer = BertTokenizer.from_pretrained(bert_weights_name)\n",
    "bert_model = BertModel.from_pretrained(bert_weights_name)\n",
    "\n",
    "\n",
    "def hf_cls_phi(text):\n",
    "    # Get the ids. `vsm.hf_encode` will help; be sure to\n",
    "    # set `add_special_tokens=True`.\n",
    "    ##### YOUR CODE HERE\n",
    "    ids = vsm.hf_encode(text, bert_tokenizer, add_special_tokens=True)\n",
    "\n",
    "    # Get the BERT representations. `vsm.hf_represent` will help:\n",
    "    ##### YOUR CODE HERE\n",
    "    reps = vsm.hf_represent(ids, bert_model)\n",
    "\n",
    "\n",
    "    # Index into `reps` to get the representation above [CLS].\n",
    "    # The shape of `reps` should be (1, n, 768), where n is the\n",
    "    # number of tokens. You need the 0th element of the 2nd dim:\n",
    "    ##### YOUR CODE HERE\n",
    "    cls_rep = reps[0, 0, :]\n",
    "\n",
    "\n",
    "    # These conversions should ensure that you can work with the\n",
    "    # representations flexibly. Feel free to change the variable\n",
    "    # name:\n",
    "    return cls_rep.cpu().numpy()"
   ]
  },
  {
   "cell_type": "code",
   "execution_count": 40,
   "metadata": {},
   "outputs": [],
   "source": [
    "def test_hf_cls_phi(func):\n",
    "    rep = func(\"Just testing!\")\n",
    "\n",
    "    expected_shape = (768,)\n",
    "    result_shape = rep.shape\n",
    "    assert rep.shape == (768,), \\\n",
    "        \"Expected shape {}; got {}\".format(\n",
    "        expected_shape, result_shape)\n",
    "\n",
    "    # String conversion to avoid precision errors:\n",
    "    expected_first_val = str(0.1709)\n",
    "    result_first_val = \"{0:.04f}\".format(rep[0])\n",
    "\n",
    "    assert expected_first_val == result_first_val, \\\n",
    "        (\"Unexpected representation values. Expected the \"\n",
    "        \"first value to be {}; got {}\".format(\n",
    "            expected_first_val, result_first_val))"
   ]
  },
  {
   "cell_type": "code",
   "execution_count": 41,
   "metadata": {},
   "outputs": [],
   "source": [
    "if 'IS_GRADESCOPE_ENV' not in os.environ:\n",
    "    test_hf_cls_phi(hf_cls_phi)"
   ]
  },
  {
   "cell_type": "markdown",
   "metadata": {},
   "source": [
    "Note: encoding all of SST-3 train (no subtrees) takes about 11 minutes on my 2015 iMac, CPU only (32GB)."
   ]
  },
  {
   "cell_type": "markdown",
   "metadata": {},
   "source": [
    "### Your original system [3 points]\n",
    "\n",
    "Your task is to develop an original model for the SST-3 problem and our new bakeoff dataset. There are many options. If you spend more than a few hours on this homework problem, you should consider letting it grow into your final project! Here are some relatively manageable ideas that you might try:\n",
    "\n",
    "1. We didn't systematically evaluate the `bidirectional` option to the `TorchRNNClassifier`. Similarly, that model could be tweaked to allow multiple LSTM layers (at present there is only one), and you could try adding layers to the classifier portion of the model as well.\n",
    "\n",
    "1. We've already glimpsed the power of rich initial word representations, and later in the course we'll see that smart initialization usually leads to a performance gain in NLP, so you could perhaps achieve a winning entry with a simple model that starts in a great place.\n",
    "\n",
    "1. Our [practical introduction to contextual word representations](finetuning.ipynb) covers pretrained representations and interfaces that are likely to boost the performance of any system.\n",
    "\n",
    "We want to emphasize that this needs to be an __original__ system. It doesn't suffice to download code from the Web, retrain, and submit. You can build on others' code, but you have to do something new and meaningful with it. See the course website for additional guidance on how original systems will be evaluated.\n",
    "\n",
    "In the cell below, please provide a brief technical description of your original system, so that the teaching team can gain an understanding of what it does. This will help us to understand your code and analyze all the submissions to identify patterns and strategies.  We also ask that you report the best score your system got during development (your best average of macro-F1 scores), just to help us understand how systems performed overall."
   ]
  },
  {
   "cell_type": "code",
   "execution_count": 42,
   "metadata": {},
   "outputs": [],
   "source": [
    "# PLEASE MAKE SURE TO INCLUDE THE FOLLOWING BETWEEN THE START AND STOP COMMENTS:\n",
    "#   1) Textual description of your system.\n",
    "#   2) The code for your original system.\n",
    "#   3) The score achieved by your system in place of MY_NUMBER.\n",
    "#        With no other changes to that line.\n",
    "#        You should report your score as a decimal value <=1.0\n",
    "# PLEASE MAKE SURE NOT TO DELETE OR EDIT THE START AND STOP COMMENTS\n",
    "\n",
    "# NOTE: MODULES, CODE AND DATASETS REQUIRED FOR YOUR ORIGINAL SYSTEM\n",
    "# SHOULD BE ADDED BELOW THE 'IS_GRADESCOPE_ENV' CHECK CONDITION. DOING\n",
    "# SO ABOVE THE CHECK MAY CAUSE THE AUTOGRADER TO FAIL.\n",
    "\n",
    "# START COMMENT: Enter your system description in this cell.\n",
    "# My peak score was: 0.534\n",
    "# \n",
    "# Description: \n",
    "# \n",
    "# Since we are trying to do fast domain adaptation, \n",
    "# we implemented a prototypical network (Snell et al., 2017)\n",
    "# with DistillBert's [CLS] rep as the initialized encoder. \n",
    "# \n",
    "# Prototypical networks is a meta-learning framework popular in few-shot learning\n",
    "# as a way to achieve fast domain adaptation, and have performed\n",
    "# extremely well on certain few-shot learning benchmarks, such as Omniglot.\n",
    "#\n",
    "# During metatrain, we train the model to do 3-shot (per class) classification.\n",
    "# During metadev, we ask the model to perform 3-shot classification on unseen domains.\n",
    "# During metatest, we increase the k in k-shot, as in general it is easy to\n",
    "# collect more than 3 examples per class available even for a new domain.\n",
    "#\n",
    "# For our meta-training and meta-dev data, we used sentiment analysis\n",
    "# datasets from the following domains:\n",
    "# - Amazon reviews by category (https://nijianmo.github.io/amazon/index.html#subsets)\n",
    "# - DynaSent Round 1 Yelp Dataset\n",
    "# - Airline reviews on Twitter (https://www.kaggle.com/crowdflower/twitter-airline-sentiment/)\n",
    "# - sst_train\n",
    "# These give us a total of 27 domains, and we hold out 5 domains for meta-val.\n",
    "# \n",
    "# For meta-test, we use sst_dev and bakeoff_dev.\n",
    "#\n",
    "# Given the training and eval paradigm differ so drastically from standard supervised learning,\n",
    "# we had to leverage custom Trainer and Model implementations, but HuggingFace made it doable.\n",
    "# \n",
    "# Analysis:\n",
    "# \n",
    "# At meta-val time, we eval'ed our model's ability to perform 3-shot classification\n",
    "# on a set of 5 held-out tasks, and the model was able to obtain an F1 score of 0.642.\n",
    "# However, at (meta)test time, which uses our dev sets, the score had a huge drop.\n",
    "# Upon closer inspection, since most of our task-specific datasets come from Amazon,\n",
    "# and all held-out tasks happen to be Amazon subsets, we observe meta-overfitting:\n",
    "# overfitting to the overwhelming presence of Amazon reviews among our tasks,\n",
    "# similar to how a traditional classifier might favor the dominant classes.\n",
    "# \n",
    "# To remedy this issue, we could potentially explore upsampling certain domains/tasks,\n",
    "# or including more diverse datasets.\n",
    "#\n",
    "# The full colab development is here:\n",
    "#     https://colab.research.google.com/drive/1C9lzeAeL2W7ofjZz9nWRwyJdQxkhbKig?usp=sharing\n",
    "\n",
    "\n",
    "if 'IS_GRADESCOPE_ENV' not in os.environ:\n",
    "    from typing import List, Dict, Optional\n",
    "    import random, json\n",
    "    from sklearn.model_selection import train_test_split\n",
    "    from sklearn.metrics import classification_report\n",
    "\n",
    "    import torch\n",
    "    import torch.nn as nn\n",
    "    import transformers\n",
    "    import vsm\n",
    "    \n",
    "    from torch.utils.data import Dataset\n",
    "    \n",
    "    from transformers import AutoTokenizer, AutoModel\n",
    "    from transformers import Trainer\n",
    "    from transformers.trainer import *\n",
    "    from transformers.modeling_outputs import SequenceClassifierOutput\n",
    "    \n",
    "    class ProtoNet(nn.Module):\n",
    "        def __init__(self, model_name): # TODO: add device info potentially\n",
    "            super(ProtoNet, self).__init__()\n",
    "            self.encoder = AutoModel.from_pretrained(model_name)\n",
    "            self.num_classes = 3\n",
    "\n",
    "        def _encode(self, ids):\n",
    "            return self.encoder(**ids, output_hidden_states=True).hidden_states[-1][:, 0, :]\n",
    "\n",
    "        def encode(self, ids, is_support):\n",
    "            if is_support:\n",
    "                reps_by_task = [self._encode(ids_per_class) for ids_per_class in ids] # list of len N, each elt is a (K,D) tensor\n",
    "                reps = torch.vstack([rep.unsqueeze(0) for rep in reps_by_task]) # (N, K, D)\n",
    "            else:\n",
    "                reps = self._encode(ids) # (N*Q, D)\n",
    "            return reps  \n",
    "\n",
    "\n",
    "        @staticmethod\n",
    "        def euclidean_dist(centroids, queries):\n",
    "            def calc_norm_squared(tensor):\n",
    "                return torch.mul(tensor, tensor).sum(dim=-1)\n",
    "\n",
    "            centroids_norm_squared = calc_norm_squared(centroids).unsqueeze(0) # (1, N)\n",
    "            queries_norm_squared = calc_norm_squared(queries).unsqueeze(-1) # (N * Q, 1)\n",
    "            dot_prod = torch.matmul(queries, torch.transpose(centroids, 0, 1)) # (N*Q, N)\n",
    "            distances = queries_norm_squared - 2 * dot_prod + centroids_norm_squared\n",
    "\n",
    "            return distances\n",
    "\n",
    "\n",
    "        def forward(self, supports, queries): #, query_labels):\n",
    "            '''\n",
    "              Args:\n",
    "                supports: support examples, List[List[str]] of shape [N, K]\n",
    "                queries: query examples, List[str] of length N * Q\n",
    "                # query_labels: one-hot encodings of the labels of the queries with shape N * Q, N\n",
    "\n",
    "                N: number of classes, 3 in this case\n",
    "                K: K in K-shot learning, i.e., number of support examples per class\n",
    "                Q: number of query points per class\n",
    "\n",
    "              Returns:\n",
    "                Logits\n",
    "            '''\n",
    "\n",
    "            # get encoder reps\n",
    "            support_reps = self.encode(supports, is_support=True) # (N, K, D)\n",
    "            query_reps = self.encode(queries, is_support=False) # (N * Q, D)\n",
    "\n",
    "            # get centroids\n",
    "            centroids = torch.mean(support_reps, dim=1) # (N, D)\n",
    "\n",
    "            # calculate euclidean distance\n",
    "            distances = self.euclidean_dist(centroids, query_reps)\n",
    "            logits = -distances # (N*Q, N)\n",
    "            return SequenceClassifierOutput(logits=logits)\n",
    "\n",
    "\n",
    "\n",
    "    class ProtoNetTrainer(Trainer):\n",
    "        def compute_loss(self, model, inputs, return_outputs=False):\n",
    "            labels = inputs[\"labels\"]\n",
    "            outputs = model(inputs[\"supports\"], inputs[\"queries\"])\n",
    "            logits = outputs.logits\n",
    "            loss_fct = nn.CrossEntropyLoss()\n",
    "            loss = loss_fct(logits, labels)\n",
    "            return (loss, outputs) if return_outputs else loss\n",
    "\n",
    "        def prediction_loop(\n",
    "            self,\n",
    "            dataloader,\n",
    "            description: str,\n",
    "            prediction_loss_only: Optional[bool] = None,\n",
    "            ignore_keys: Optional[List[str]] = None,\n",
    "            metric_key_prefix: str = \"eval\"):\n",
    "            \"\"\"\n",
    "            Prediction/evaluation loop, shared by :obj:`Trainer.evaluate()` and :obj:`Trainer.predict()`.\n",
    "            Works both with or without labels.\n",
    "\n",
    "            Note: This is almost identical to source code, with a 1-line change in `num_examples`.\n",
    "            This has to be in place given the quirks of ProtoNet.\n",
    "            \"\"\"\n",
    "            if not isinstance(dataloader.dataset, collections.abc.Sized):\n",
    "                raise ValueError(\"dataset must implement __len__\")\n",
    "            prediction_loss_only = (\n",
    "                prediction_loss_only if prediction_loss_only is not None else self.args.prediction_loss_only\n",
    "            )\n",
    "\n",
    "            if self.args.deepspeed and not self.args.do_train:\n",
    "                # no harm, but flagging to the user that deepspeed config is ignored for eval\n",
    "                # flagging only for when --do_train wasn't passed as only then it's redundant\n",
    "                logger.info(\"Detected the deepspeed argument but it will not be used for evaluation\")\n",
    "\n",
    "            model = self._wrap_model(self.model, training=False)\n",
    "\n",
    "            # if full fp16 is wanted on eval and this ``evaluation`` or ``predict`` isn't called while\n",
    "            # ``train`` is running, half it first and then put on device\n",
    "            if not self.is_in_train and self.args.fp16_full_eval:\n",
    "                model = model.half().to(self.args.device)\n",
    "\n",
    "            batch_size = dataloader.batch_size\n",
    "            num_examples = self.num_examples(dataloader) * self.model.num_classes\n",
    "            logger.info(f\"***** Running {description} *****\")\n",
    "            logger.info(f\"  Num examples = {num_examples}\")\n",
    "            logger.info(f\"  Batch size = {batch_size}\")\n",
    "            losses_host: torch.Tensor = None\n",
    "            preds_host: Union[torch.Tensor, List[torch.Tensor]] = None\n",
    "            labels_host: Union[torch.Tensor, List[torch.Tensor]] = None\n",
    "\n",
    "            world_size = max(1, self.args.world_size)\n",
    "\n",
    "            eval_losses_gatherer = DistributedTensorGatherer(world_size, num_examples, make_multiple_of=batch_size)\n",
    "            if not prediction_loss_only:\n",
    "                # The actual number of eval_sample can be greater than num_examples in distributed settings (when we pass\n",
    "                # a batch size to the sampler)\n",
    "                make_multiple_of = None\n",
    "                if hasattr(dataloader, \"sampler\") and isinstance(dataloader.sampler, SequentialDistributedSampler):\n",
    "                    make_multiple_of = dataloader.sampler.batch_size\n",
    "                preds_gatherer = DistributedTensorGatherer(world_size, num_examples, make_multiple_of=make_multiple_of)\n",
    "                labels_gatherer = DistributedTensorGatherer(world_size, num_examples, make_multiple_of=make_multiple_of)\n",
    "\n",
    "            model.eval()\n",
    "\n",
    "            if is_torch_tpu_available():\n",
    "                dataloader = pl.ParallelLoader(dataloader, [self.args.device]).per_device_loader(self.args.device)\n",
    "\n",
    "            if self.args.past_index >= 0:\n",
    "                self._past = None\n",
    "\n",
    "            self.callback_handler.eval_dataloader = dataloader\n",
    "\n",
    "            for step, inputs in enumerate(dataloader):\n",
    "                loss, logits, labels = self.prediction_step(model, inputs, prediction_loss_only, ignore_keys=ignore_keys)\n",
    "                if loss is not None:\n",
    "                    losses = loss.repeat(batch_size)\n",
    "                    losses_host = losses if losses_host is None else torch.cat((losses_host, losses), dim=0)\n",
    "                if logits is not None:\n",
    "                    preds_host = logits if preds_host is None else nested_concat(preds_host, logits, padding_index=-100)\n",
    "                if labels is not None:\n",
    "                    labels_host = labels if labels_host is None else nested_concat(labels_host, labels, padding_index=-100)\n",
    "                self.control = self.callback_handler.on_prediction_step(self.args, self.state, self.control)\n",
    "\n",
    "                # Gather all tensors and put them back on the CPU if we have done enough accumulation steps.\n",
    "                if self.args.eval_accumulation_steps is not None and (step + 1) % self.args.eval_accumulation_steps == 0:\n",
    "                    eval_losses_gatherer.add_arrays(self._gather_and_numpify(losses_host, \"eval_losses\"))\n",
    "                    if not prediction_loss_only:\n",
    "                        preds_gatherer.add_arrays(self._gather_and_numpify(preds_host, \"eval_preds\"))\n",
    "                        labels_gatherer.add_arrays(self._gather_and_numpify(labels_host, \"eval_label_ids\"))\n",
    "\n",
    "                    # Set back to None to begin a new accumulation\n",
    "                    losses_host, preds_host, labels_host = None, None, None\n",
    "\n",
    "            if self.args.past_index and hasattr(self, \"_past\"):\n",
    "                # Clean the state at the end of the evaluation loop\n",
    "                delattr(self, \"_past\")\n",
    "\n",
    "            # Gather all remaining tensors and put them back on the CPU\n",
    "            eval_losses_gatherer.add_arrays(self._gather_and_numpify(losses_host, \"eval_losses\"))\n",
    "            if not prediction_loss_only:\n",
    "                preds_gatherer.add_arrays(self._gather_and_numpify(preds_host, \"eval_preds\"))\n",
    "                labels_gatherer.add_arrays(self._gather_and_numpify(labels_host, \"eval_label_ids\"))\n",
    "\n",
    "            eval_loss = eval_losses_gatherer.finalize()\n",
    "            preds = preds_gatherer.finalize() if not prediction_loss_only else None\n",
    "            label_ids = labels_gatherer.finalize() if not prediction_loss_only else None\n",
    "\n",
    "            if self.compute_metrics is not None and preds is not None and label_ids is not None:\n",
    "                metrics = self.compute_metrics(EvalPrediction(predictions=preds, label_ids=label_ids))\n",
    "            else:\n",
    "                metrics = {}\n",
    "\n",
    "            # To be JSON-serializable, we need to remove numpy types or zero-d tensors\n",
    "            metrics = denumpify_detensorize(metrics)\n",
    "\n",
    "            if eval_loss is not None:\n",
    "                metrics[f\"{metric_key_prefix}_loss\"] = eval_loss.mean().item()\n",
    "\n",
    "            # Prefix all keys with metric_key_prefix + '_'\n",
    "            for key in list(metrics.keys()):\n",
    "                if not key.startswith(f\"{metric_key_prefix}_\"):\n",
    "                    metrics[f\"{metric_key_prefix}_{key}\"] = metrics.pop(key)\n",
    "\n",
    "            return PredictionOutput(predictions=preds, label_ids=label_ids, metrics=metrics)\n",
    "\n",
    "\n",
    "    class DataGenerator:\n",
    "        def __init__(self, task_datasets, num_support, num_query, model_name):\n",
    "            self.num_support = num_support\n",
    "            self.num_query = num_query\n",
    "            self.datasets = task_datasets\n",
    "\n",
    "            self.classes = ['negative', 'neutral', 'positive']\n",
    "            self.cls_idx_map = {cls: idx for idx, cls in enumerate(self.classes)}\n",
    "\n",
    "            self.tokenizer = AutoTokenizer.from_pretrained(model_name)\n",
    "\n",
    "        def _tokenize(self, texts: List[str]):\n",
    "            return self.tokenizer(texts, padding='max_length', truncation=True, return_tensors=\"pt\")\n",
    "\n",
    "        def tokenize(self, texts, is_support):\n",
    "            if is_support:\n",
    "                return [self._tokenize(texts_by_class) for texts_by_class in texts]\n",
    "            else:\n",
    "                return self._tokenize(texts)\n",
    "\n",
    "        def sample_batch(self, task=None):\n",
    "            if task is None:\n",
    "                task, task_ds = random.choice(list(self.datasets.items()))\n",
    "            else:\n",
    "                task_ds = self.datasets[task]\n",
    "            support = task_ds['support']\n",
    "            query = task_ds['query']\n",
    "\n",
    "            batch_support = [random.sample(support[cls], self.num_support) for cls in self.classes]\n",
    "\n",
    "            batch_query = [random.sample(query[cls], self.num_query) for cls in self.classes]\n",
    "            batch_query = [q for query in batch_query for q in query] # flatten\n",
    "            query_labels = [self.cls_idx_map[cls] for cls in self.classes for _ in range(self.num_query)]\n",
    "\n",
    "            randomize_query = list(range(len(query_labels)))\n",
    "            random.shuffle(randomize_query)\n",
    "            batch_query = [batch_query[i] for i in randomize_query]\n",
    "            query_labels = [query_labels[i] for i in randomize_query]\n",
    "\n",
    "            return {'supports': self.tokenize(batch_support, True), \n",
    "                    'queries': self.tokenize(batch_query, False),\n",
    "                    'labels': torch.tensor(query_labels, dtype=torch.long)}\n",
    "\n",
    "\n",
    "    class MetaTrainDataset(Dataset):\n",
    "        def __init__(self, task_datasets, num_support, num_query, model_name, num_steps=10000):\n",
    "            self.data_generator = DataGenerator(task_datasets, num_support, num_query, model_name)\n",
    "            self.num_steps = num_steps\n",
    "            self.examples = [self.data_generator.sample_batch() for _ in range(self.num_steps)]\n",
    "\n",
    "        def __len__(self):\n",
    "            return self.num_steps\n",
    "\n",
    "        def __getitem__(self, idx):\n",
    "            return self.examples[idx]\n",
    "\n",
    "    class MetaValDataset(Dataset):\n",
    "        def __init__(self, task_datasets, num_support, num_query, model_name, num_examples_per_task=5):\n",
    "            self.datasets = task_datasets\n",
    "            self.data_generator = DataGenerator(task_datasets, num_support, num_query, model_name)\n",
    "            self.examples = [self.data_generator.sample_batch(task) for task in self.datasets.keys()\n",
    "                                 for _ in range(num_examples_per_task)]\n",
    "\n",
    "        def __len__(self):\n",
    "            return len(self.examples)\n",
    "\n",
    "        def __getitem__(self, idx):\n",
    "            return self.examples[idx]\n",
    "\n",
    "    def pass_data_collator(features) -> Dict[str, torch.Tensor]:\n",
    "        return features[0]\n",
    "    \n",
    "    model_name = 'distilbert-base-uncased'\n",
    "\n",
    "    def construct_meta(df, sentence_name='sentence', label_name='label'):\n",
    "        keys = ['negative', 'neutral', 'positive']\n",
    "        sentences = df[sentence_name].tolist()\n",
    "        labels = df[label_name].tolist()\n",
    "        support_sentences, query_sentences, support_labels, query_labels = train_test_split(sentences, labels, train_size=0.8)\n",
    "\n",
    "        support = {key: [] for key in keys}\n",
    "        for sentence, label in zip(support_sentences, support_labels):\n",
    "            support[label].append(sentence)\n",
    "\n",
    "        query = {key: [] for key in keys}\n",
    "        for sentence, label in zip(query_sentences, query_labels):\n",
    "            query[label].append(sentence)\n",
    "\n",
    "        return {'support': support, 'query': query} \n",
    "    \n",
    "    task_datasets = {}\n",
    "\n",
    "    # amazon\n",
    "    amazon_data_dir = os.path.join(SST_HOME, 'amazon_by_category')\n",
    "    for fp in os.listdir(amazon_data_dir):\n",
    "        task_name = f\"amz_{fp.split('.')[0]}\"\n",
    "        df = pd.read_json(os.path.join(amazon_data_dir, fp))\n",
    "        if len(df) > 3000:\n",
    "            task_datasets[task_name] = construct_meta(df) \n",
    "    \n",
    "    # sst\n",
    "    task_datasets['sst_train'] = construct_meta(sst_train)\n",
    "\n",
    "    # dynasent\n",
    "    dynasent_data_dir = os.path.join(SST_HOME, 'dynasent-v1.1')\n",
    "    dynasent_train_filename = os.path.join(dynasent_data_dir, 'dynasent-v1.1-round01-yelp-train.jsonl')\n",
    "    dynasent_dev_filename = os.path.join(dynasent_data_dir, 'dynasent-v1.1-round01-yelp-dev.jsonl')\n",
    "\n",
    "    def load_dataset(src_filenames, labels=None):\n",
    "        data = []\n",
    "        for filename in src_filenames:\n",
    "            with open(filename) as f:\n",
    "                for line in f:\n",
    "                    d = json.loads(line)\n",
    "                    if labels is None or d['gold_label'] in labels:\n",
    "                        data.append(d)\n",
    "        return data\n",
    "\n",
    "\n",
    "    ternary_labels = ('positive', 'negative', 'neutral')\n",
    "    dynasent = load_dataset([dynasent_train_filename, dynasent_dev_filename], labels=ternary_labels)\n",
    "    dynasent_df = pd.DataFrame.from_dict(dynasent).sample(10000, random_state=42)\n",
    "\n",
    "    task_datasets['dynasent'] = construct_meta(dynasent_df, label_name='gold_label')\n",
    "\n",
    "    # airline reviews\n",
    "    airline_tweets_df = pd.read_csv(os.path.join(SST_HOME, 'twitter_airline/Tweets.csv'))\n",
    "    airline_tweets_df_filtered = airline_tweets_df[airline_tweets_df.airline_sentiment_confidence > 0.7]\n",
    "\n",
    "    task_datasets['airline'] = construct_meta(airline_tweets_df_filtered, sentence_name='text', label_name='airline_sentiment')\n",
    "    \n",
    "    random.seed(42)\n",
    "    metaval_tasks = random.sample(task_datasets.keys(), int(len(task_datasets) * 0.2))\n",
    "\n",
    "    metatrain_task_datasets = {task: ds for task, ds in task_datasets.items() if task not in metaval_tasks}\n",
    "    metaval_task_datasets = {task: ds for task, ds in task_datasets.items() if task in metaval_tasks}\n",
    "\n",
    "    metatrain_dataset = MetaTrainDataset(metatrain_task_datasets, 3 , 1, model_name, num_steps=3000)\n",
    "\n",
    "    metaval_dataset = MetaValDataset(metaval_task_datasets, 3, 1, model_name)\n",
    "\n",
    "    trainer_args = transformers.TrainingArguments(output_dir='./experiments', \n",
    "                                              per_device_eval_batch_size=1, \n",
    "                                              per_device_train_batch_size=1,\n",
    "                                              logging_steps=100,\n",
    "                                              load_best_model_at_end=True,\n",
    "                                              metric_for_best_model='f1-score')\n",
    "\n",
    "    def compute_metrics(pred):\n",
    "        labels = pred.label_ids\n",
    "        preds = pred.predictions.argmax(-1)\n",
    "        target_names = ['negative', 'neutral', 'positive']\n",
    "        return classification_report(labels, preds, target_names=target_names, output_dict=True)['macro avg']\n",
    "\n",
    "    protonet = ProtoNet(model_name)\n",
    "    trainer = ProtoNetTrainer(model=protonet, \n",
    "                              args=trainer_args, \n",
    "                              data_collator=pass_data_collator, \n",
    "                              train_dataset=train_dataset,\n",
    "                              compute_metrics=compute_metrics)\n",
    "    # trainer.train()\n",
    "\n",
    "    # ======== EVAL =======\n",
    "    metatest_task_dataset = construct_metatest(pd.concat([sst_dev, bakeoff_dev]).sample(frac=1))\n",
    "    tokenizer = AutoTokenizer.from_pretrained(model_name)\n",
    "    def tokenize(texts, is_support):\n",
    "        def _tokenize(texts: List[str]):\n",
    "            return tokenizer(texts, padding='max_length', truncation=True, return_tensors=\"pt\")\n",
    "\n",
    "        if is_support:\n",
    "            return [_tokenize(texts_by_class) for texts_by_class in texts]\n",
    "        else:\n",
    "            return _tokenize(texts)\n",
    "        \n",
    "    def calculate_prototypes(support_set, device='cuda:0'):\n",
    "        support_ids = tokenize(support_set, is_support=True)\n",
    "        def move_dict(dict_tensors):\n",
    "            return {key: val.to(device) for key, val in dict_tensors.items()}\n",
    "        with torch.no_grad():\n",
    "            reps = protonet.encode([move_dict(support_ids_per_class) for support_ids_per_class in support_ids], is_support=True)\n",
    "        return torch.mean(reps, dim=1).cpu().numpy()\n",
    "    \n",
    "    prototypes = calculate_prototypes(metatest_task_dataset['support'])\n",
    "\n",
    "    def euclidean_dist_np(centroids, query):\n",
    "        def calc_norm_squared(arr):\n",
    "            return np.multiply(arr, arr).sum(axis=-1)\n",
    "    \n",
    "        centroids_norm_squared = calc_norm_squared(centroids).reshape(1, -1) # (1, N)\n",
    "        queries_norm_squared = calc_norm_squared(query).reshape(-1, 1) # (N * Q, 1)\n",
    "        dot_prod = np.matmul(query, centroids.T) # (N*Q, N)\n",
    "        distances = queries_norm_squared - 2 * dot_prod + centroids_norm_squared\n",
    "        return distances\n",
    "\n",
    "\n",
    "    def predict_one(text):\n",
    "        labels = ['negative', 'neutral', 'positive']\n",
    "        ids = tokenize(text, is_support=False)\n",
    "        def move_dict(dict_tensors, device='cuda:0'):\n",
    "            return {key: val.to(device) for key, val in dict_tensors.items()}\n",
    "        with torch.no_grad():\n",
    "            reps = protonet.encode(move_dict(ids), is_support=False).cpu().numpy()\n",
    "        distances = euclidean_dist_np(prototypes, reps)\n",
    "        label_id = int(np.argmin(distances, -1))\n",
    "        return labels[label_id]\n",
    "\n",
    "    '''\n",
    "    Dev eval from Colab:\n",
    "    \n",
    "    Assessment dataset 1\n",
    "                  precision    recall  f1-score   support\n",
    "\n",
    "        negative      0.803     0.514     0.627       428\n",
    "         neutral      0.354     0.306     0.328       229\n",
    "        positive      0.604     0.856     0.708       444\n",
    "\n",
    "        accuracy                          0.609      1101\n",
    "       macro avg      0.587     0.559     0.554      1101\n",
    "    weighted avg      0.629     0.609     0.597      1101\n",
    "\n",
    "    Assessment dataset 2\n",
    "                  precision    recall  f1-score   support\n",
    "\n",
    "        negative      0.525     0.391     0.448       565\n",
    "         neutral      0.573     0.431     0.492      1019\n",
    "        positive      0.498     0.753     0.600       777\n",
    "\n",
    "        accuracy                          0.527      2361\n",
    "       macro avg      0.532     0.525     0.513      2361\n",
    "    weighted avg      0.537     0.527     0.517      2361\n",
    "\n",
    "    Mean of macro-F1 scores: 0.534\n",
    "    '''\n",
    "\n",
    "                                    \n",
    "                                    \n",
    "\n",
    "# STOP COMMENT: Please do not remove this comment."
   ]
  },
  {
   "cell_type": "markdown",
   "metadata": {},
   "source": [
    "## Bakeoff [1 point]\n",
    "\n",
    "As we said above, the bakeoff evaluation data is the official SST test-set release and a new test set derived from the same sources and labeling methods as for `bakeoff_dev`.\n",
    "\n",
    "For this bakeoff, you'll evaluate your original system from the above homework problem on these test sets. Our metric will be the mean of the macro-F1 values, which weights both datasets equally despite their differing sizes.\n",
    "\n",
    "The central requirement for your system is that you have define a `predict_one` method for it that maps a text (str) directly to a label prediction – one of 'positive', 'negative', 'neutral'. If you used `sst.experiment` with `vectorize=True`, then the following function (for `softmax_experiment`) will be easy to adapt – you probably just need to change the variable `softmax_experiment` to the variable for your experiment output."
   ]
  },
  {
   "cell_type": "code",
   "execution_count": 43,
   "metadata": {},
   "outputs": [],
   "source": [
    "def predict_one_softmax(text):\n",
    "    # Singleton list of feature dicts:\n",
    "    feats = [softmax_experiment['phi'](text)]\n",
    "    # Vectorize to get a feature matrix:\n",
    "    X = softmax_experiment['train_dataset']['vectorizer'].transform(feats)\n",
    "    # Standard sklearn `predict` step:\n",
    "    preds = softmax_experiment['model'].predict(X)\n",
    "    # Be sure to return the only member of the predictions,\n",
    "    # rather than the singleton list:\n",
    "    return preds[0]"
   ]
  },
  {
   "cell_type": "markdown",
   "metadata": {},
   "source": [
    "If you used an RNN like the one we demoed above, then featurization is a bit more straightforward:"
   ]
  },
  {
   "cell_type": "code",
   "execution_count": 44,
   "metadata": {},
   "outputs": [],
   "source": [
    "def predict_one_rnn(text):\n",
    "    # List of tokenized examples:\n",
    "    X = [rnn_experiment['phi'](text)]\n",
    "    # Standard `predict` step on a list of lists of str:\n",
    "    preds = rnn_experiment['model'].predict(X)\n",
    "    # Be sure to return the only member of the predictions,\n",
    "    # rather than the singleton list:\n",
    "    return preds[0]"
   ]
  },
  {
   "cell_type": "markdown",
   "metadata": {},
   "source": [
    "The following function is used to create the bakeoff submission file. Its arguments are your `predict_one` function and an output filename (str)."
   ]
  },
  {
   "cell_type": "code",
   "execution_count": 45,
   "metadata": {},
   "outputs": [],
   "source": [
    "def create_bakeoff_submission(\n",
    "        predict_one_func,\n",
    "        output_filename='cs224u-sentiment-bakeoff-entry.csv'):\n",
    "\n",
    "    bakeoff_test = sst.bakeoff_test_reader(SST_HOME)\n",
    "    sst_test = sst.test_reader(SST_HOME)\n",
    "    bakeoff_test['dataset'] = 'bakeoff'\n",
    "    sst_test['dataset'] = 'sst3'\n",
    "    df = pd.concat((bakeoff_test, sst_test))\n",
    "\n",
    "    df['prediction'] = df['sentence'].apply(predict_one_func)\n",
    "\n",
    "    df.to_csv(output_filename, index=None)"
   ]
  },
  {
   "cell_type": "markdown",
   "metadata": {},
   "source": [
    "Thus, for example, the following will create a bake-off entry based on `predict_one_softmax`:"
   ]
  },
  {
   "cell_type": "code",
   "execution_count": 46,
   "metadata": {},
   "outputs": [],
   "source": [
    "# create_bakeoff_submission(predict_one_softmax)"
   ]
  },
  {
   "cell_type": "markdown",
   "metadata": {},
   "source": [
    "This creates a file `cs224u-sentiment-bakeoff-entry.csv` in the current directory. That file should be uploaded as-is. Please do not change its name.\n",
    "\n",
    "Only one upload per team is permitted, and you should do no tuning of your system based on what you see in our bakeoff prediction file – you should not study that file in anyway, beyond perhaps checking that it contains what you expected it to contain. The upload function will do some additional checking to ensure that your file is well-formed.\n",
    "\n",
    "People who enter will receive the additional homework point, and people whose systems achieve the top score will receive an additional 0.5 points. We will test the top-performing systems ourselves, and only systems for which we can reproduce the reported results will win the extra 0.5 points.\n",
    "\n",
    "Late entries will be accepted, but they cannot earn the extra 0.5 points."
   ]
  }
 ],
 "metadata": {
  "kernelspec": {
   "display_name": "Python 3",
   "language": "python",
   "name": "python3"
  },
  "language_info": {
   "codemirror_mode": {
    "name": "ipython",
    "version": 3
   },
   "file_extension": ".py",
   "mimetype": "text/x-python",
   "name": "python",
   "nbconvert_exporter": "python",
   "pygments_lexer": "ipython3",
   "version": "3.8.5"
  },
  "widgets": {
   "state": {},
   "version": "1.1.2"
  }
 },
 "nbformat": 4,
 "nbformat_minor": 4
}
